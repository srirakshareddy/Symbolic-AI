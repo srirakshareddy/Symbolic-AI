{
  "cells": [
    {
      "cell_type": "markdown",
      "metadata": {
        "id": "view-in-github",
        "colab_type": "text"
      },
      "source": [
        "<a href=\"https://colab.research.google.com/github/srirakshareddy/Symbolic-AI/blob/main/Sriraksha_symbolic_AI.ipynb\" target=\"_parent\"><img src=\"https://colab.research.google.com/assets/colab-badge.svg\" alt=\"Open In Colab\"/></a>"
      ]
    },
    {
      "cell_type": "code",
      "execution_count": null,
      "id": "9fe717fd",
      "metadata": {
        "id": "9fe717fd",
        "outputId": "0c03f950-5844-4995-846c-418d10115f75"
      },
      "outputs": [
        {
          "name": "stdout",
          "output_type": "stream",
          "text": [
            "Collecting pytholog\n",
            "  Downloading pytholog-2.4.1-py3-none-any.whl (16 kB)\n",
            "Requirement already satisfied: more-itertools in /opt/homebrew/anaconda3/lib/python3.9/site-packages (from pytholog) (8.10.0)\n",
            "Installing collected packages: pytholog\n",
            "Successfully installed pytholog-2.4.1\n",
            "Note: you may need to restart the kernel to use updated packages.\n"
          ]
        }
      ],
      "source": [
        "pip install pytholog"
      ]
    },
    {
      "cell_type": "code",
      "execution_count": null,
      "id": "ad715d72",
      "metadata": {
        "id": "ad715d72"
      },
      "outputs": [],
      "source": [
        "import pytholog as pl\n",
        "new_kb = pl.KnowledgeBase(\"FamilyTree\")\n",
        "new_kb ([\n",
        "        \"male(abe)\",\n",
        "        \"male(clancy)\",\n",
        "        \"male(herb)\",\n",
        "        \"male(homer)\",\n",
        "        \"male(bart)\",\n",
        "         \n",
        "        \"female(mona)\",\n",
        "        \"female(jacqueline)\",\n",
        "        \"female(marge)\",\n",
        "        \"female(patty)\",\n",
        "        \"female(selma)\",\n",
        "        \"female(lisa)\",\n",
        "        \"female(maggie)\",\n",
        "        \"female(ling)\",\n",
        "\n",
        "       \"father(abe, herb)\",\n",
        "       \"father(abe, homer)\",\n",
        "       \"father(clancy, marge)\",\n",
        "       \"father(clancy, patty)\",\n",
        "       \"father(clancy, selma)\",\n",
        "       \"father(homer, bart)\",\n",
        "       \"father(homer, lisa)\",\n",
        "       \"father(homer, maggie)\",\n",
        "\n",
        "       \"mother(mona, herb)\",\n",
        "       \"mother(mona, homer)\",\n",
        "       \"mother(jacqueline, marge)\",\n",
        "       \"mother(jacqueline, patty)\",\n",
        "       \"mother(jacqueline, selma)\",\n",
        "       \"mother(marge, bart)\",\n",
        "       \"mother(marge, lisa)\",\n",
        "       \"mother(marge, maggie)\",\n",
        "       \"mother(selma, ling)\",\n",
        "\n",
        "       #parent\n",
        "       \"parent(X, Y):- father(X, Y)\",\n",
        "       \"parent(X, Y):- mother(X, Y)\",\n",
        "\n",
        "       #brother\n",
        "       \"brother(X,Y):- male(X),father(F,X),father(F,Y), mother(M,X), mother(M,Y), neq(X,Y)\",\n",
        "\n",
        "       #sister\n",
        "       \"sister(X,Y):-female(X),father(F,X),father(F,Y), mother(M,X), mother(M,Y), neq(X,Y)\",\n",
        "\n",
        "       #grandfather\n",
        "       \"grandfather(X,Y):-male(X),father(X,Z),father(Z,Y)\",\n",
        "       \"grandfather(X,Y):-male(X),father(X,Z),mother(Z,Y)\",\n",
        "       \n",
        "\n",
        "       #grandmother\n",
        "       \"grandmother(X,Y):-female(X),mother(X,Z),father(Z,Y)\",\n",
        "       \"grandmother(X,Y):-female(X),mother(X,Z),mother(Z,Y)\",\n",
        "\n",
        "       #grandparent\n",
        "       \"grandparent(X,Y):-father(X,Z),parent(Z,Y)\",\n",
        "       \"grandparent(X,Y):-mother(X,Z),parent(Z,Y)\",\n",
        "\n",
        "       #uncle\n",
        "       \"uncle(X,Y):- male(X),parent(Z,Y),brother(X,Z), neq(Z,X)\",\n",
        "\n",
        "       #aunt\n",
        "       \"aunt(X,Y):- female(X),parent(Z,Y),sister(X,Z), neq(Z,X)\",\n",
        "\n",
        "       #sibling\n",
        "       \"sibling(X, Y) :- father(F, X), father(F, Y), mother(M,X), mother(M,Y), neq(X,Y)\",\n",
        "    \n",
        "       #nephew\n",
        "       \"nephew(X, Y) :- male(X), parent(Z,X), sibling(Z,Y)\",\n",
        "       ])"
      ]
    },
    {
      "cell_type": "code",
      "execution_count": null,
      "id": "ab9e1335",
      "metadata": {
        "id": "ab9e1335",
        "outputId": "91cac2a4-ecf3-4f79-9a96-0a52a76206a0"
      },
      "outputs": [
        {
          "data": {
            "text/plain": [
              "['Yes']"
            ]
          },
          "execution_count": 3,
          "metadata": {},
          "output_type": "execute_result"
        }
      ],
      "source": [
        "new_kb.query(pl.Expr(\"parent(abe,herb)\"))"
      ]
    },
    {
      "cell_type": "code",
      "execution_count": null,
      "id": "68535d7e",
      "metadata": {
        "id": "68535d7e",
        "outputId": "f6f8b150-6b1e-4bdf-851a-b24149b81a8b"
      },
      "outputs": [
        {
          "data": {
            "text/plain": [
              "['Yes']"
            ]
          },
          "execution_count": 4,
          "metadata": {},
          "output_type": "execute_result"
        }
      ],
      "source": [
        "new_kb.query(pl.Expr(\"parent(clancy,marge)\"))"
      ]
    },
    {
      "cell_type": "code",
      "execution_count": null,
      "id": "5025d559",
      "metadata": {
        "id": "5025d559",
        "outputId": "3ff06a90-e6ef-4832-dd8e-7cb22d26dcdc"
      },
      "outputs": [
        {
          "data": {
            "text/plain": [
              "['Yes']"
            ]
          },
          "execution_count": 5,
          "metadata": {},
          "output_type": "execute_result"
        }
      ],
      "source": [
        "new_kb.query(pl.Expr(\"brother(herb,homer)\"))"
      ]
    },
    {
      "cell_type": "code",
      "execution_count": null,
      "id": "84f5e8ea",
      "metadata": {
        "id": "84f5e8ea",
        "outputId": "8fa46e2f-3a25-43fc-fc33-587b30dcdcac"
      },
      "outputs": [
        {
          "data": {
            "text/plain": [
              "['No']"
            ]
          },
          "execution_count": 6,
          "metadata": {},
          "output_type": "execute_result"
        }
      ],
      "source": [
        "new_kb.query(pl.Expr(\"brother(marge,patty)\"))"
      ]
    },
    {
      "cell_type": "code",
      "execution_count": null,
      "id": "6f5fbeca",
      "metadata": {
        "id": "6f5fbeca",
        "outputId": "10796406-f577-49b1-ae9f-7e125d345f2a"
      },
      "outputs": [
        {
          "data": {
            "text/plain": [
              "['Yes']"
            ]
          },
          "execution_count": 7,
          "metadata": {},
          "output_type": "execute_result"
        }
      ],
      "source": [
        "new_kb.query(pl.Expr(\"sister(lisa,bart)\"))"
      ]
    },
    {
      "cell_type": "code",
      "execution_count": null,
      "id": "d8a87007",
      "metadata": {
        "id": "d8a87007",
        "outputId": "9738c1c1-9426-47ee-f7b2-b1a5dcb8647e"
      },
      "outputs": [
        {
          "data": {
            "text/plain": [
              "['No']"
            ]
          },
          "execution_count": 8,
          "metadata": {},
          "output_type": "execute_result"
        }
      ],
      "source": [
        "new_kb.query(pl.Expr(\"sister(bart,lisa)\"))"
      ]
    },
    {
      "cell_type": "code",
      "execution_count": null,
      "id": "d2baea55",
      "metadata": {
        "id": "d2baea55",
        "outputId": "78440677-a807-426e-cb4f-8f4fac9df285"
      },
      "outputs": [
        {
          "data": {
            "text/plain": [
              "['Yes']"
            ]
          },
          "execution_count": 17,
          "metadata": {},
          "output_type": "execute_result"
        }
      ],
      "source": [
        "new_kb.query(pl.Expr(\"grandfather(abe,bart)\"))"
      ]
    },
    {
      "cell_type": "code",
      "execution_count": null,
      "id": "7b55bccc",
      "metadata": {
        "id": "7b55bccc",
        "outputId": "27d5857c-5951-4ec7-ea79-dc4ed3213f07"
      },
      "outputs": [
        {
          "data": {
            "text/plain": [
              "['Yes']"
            ]
          },
          "execution_count": 19,
          "metadata": {},
          "output_type": "execute_result"
        }
      ],
      "source": [
        "new_kb.query(pl.Expr(\"grandmother(jacqueline,ling)\"))"
      ]
    },
    {
      "cell_type": "code",
      "execution_count": null,
      "id": "d1ce53d0",
      "metadata": {
        "id": "d1ce53d0",
        "outputId": "8df7ad7a-e038-4795-ee56-7d6040eee101"
      },
      "outputs": [
        {
          "data": {
            "text/plain": [
              "['Yes']"
            ]
          },
          "execution_count": 20,
          "metadata": {},
          "output_type": "execute_result"
        }
      ],
      "source": [
        "new_kb.query(pl.Expr(\"grandparent(mona,lisa)\"))"
      ]
    },
    {
      "cell_type": "code",
      "execution_count": null,
      "id": "e10471e1",
      "metadata": {
        "id": "e10471e1",
        "outputId": "f578c2a1-ff4c-4271-c792-c2381707e530"
      },
      "outputs": [
        {
          "data": {
            "text/plain": [
              "['Yes']"
            ]
          },
          "execution_count": 21,
          "metadata": {},
          "output_type": "execute_result"
        }
      ],
      "source": [
        "new_kb.query(pl.Expr(\"uncle(herb,maggie)\"))"
      ]
    },
    {
      "cell_type": "code",
      "execution_count": null,
      "id": "96488d20",
      "metadata": {
        "id": "96488d20",
        "outputId": "18c1cf59-12ce-4461-82c8-ef0a3b812c0a"
      },
      "outputs": [
        {
          "data": {
            "text/plain": [
              "['Yes']"
            ]
          },
          "execution_count": 22,
          "metadata": {},
          "output_type": "execute_result"
        }
      ],
      "source": [
        "new_kb.query(pl.Expr(\"aunt(marge,ling)\"))"
      ]
    },
    {
      "cell_type": "code",
      "execution_count": null,
      "id": "a4a7e86c",
      "metadata": {
        "id": "a4a7e86c",
        "outputId": "8b3a33fa-44d1-425a-e7ce-626c42c4528a"
      },
      "outputs": [
        {
          "data": {
            "text/plain": [
              "['Yes']"
            ]
          },
          "execution_count": 23,
          "metadata": {},
          "output_type": "execute_result"
        }
      ],
      "source": [
        "new_kb.query(pl.Expr(\"sibling(maggie,bart)\"))"
      ]
    },
    {
      "cell_type": "code",
      "execution_count": null,
      "id": "bdcd5d1a",
      "metadata": {
        "id": "bdcd5d1a",
        "outputId": "a9764154-fc13-4f5c-a242-2d03fc2baa55"
      },
      "outputs": [
        {
          "data": {
            "text/plain": [
              "['Yes']"
            ]
          },
          "execution_count": 30,
          "metadata": {},
          "output_type": "execute_result"
        }
      ],
      "source": [
        "new_kb.query(pl.Expr(\"nephew(bart,herb)\"))"
      ]
    },
    {
      "cell_type": "code",
      "execution_count": null,
      "id": "2533a4ff",
      "metadata": {
        "id": "2533a4ff"
      },
      "outputs": [],
      "source": []
    }
  ],
  "metadata": {
    "kernelspec": {
      "display_name": "Python 3 (ipykernel)",
      "language": "python",
      "name": "python3"
    },
    "language_info": {
      "codemirror_mode": {
        "name": "ipython",
        "version": 3
      },
      "file_extension": ".py",
      "mimetype": "text/x-python",
      "name": "python",
      "nbconvert_exporter": "python",
      "pygments_lexer": "ipython3",
      "version": "3.9.7"
    },
    "colab": {
      "provenance": [],
      "include_colab_link": true
    }
  },
  "nbformat": 4,
  "nbformat_minor": 5
}